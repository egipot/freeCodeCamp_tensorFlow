{
  "nbformat": 4,
  "nbformat_minor": 0,
  "metadata": {
    "colab": {
      "provenance": [],
      "authorship_tag": "ABX9TyOJpRoRCHaSBjG4LNEcCju5",
      "include_colab_link": true
    },
    "kernelspec": {
      "name": "python3",
      "display_name": "Python 3"
    },
    "language_info": {
      "name": "python"
    }
  },
  "cells": [
    {
      "cell_type": "markdown",
      "metadata": {
        "id": "view-in-github",
        "colab_type": "text"
      },
      "source": [
        "<a href=\"https://colab.research.google.com/github/egipot/freeCodeCamp_tensorFlow/blob/main/freeCodeCamp_TensorFlow_5_Clustering.ipynb\" target=\"_parent\"><img src=\"https://colab.research.google.com/assets/colab-badge.svg\" alt=\"Open In Colab\"/></a>"
      ]
    },
    {
      "cell_type": "markdown",
      "source": [
        "# Clustering\n",
        "\n",
        "Hidden Markow models = probability distributions"
      ],
      "metadata": {
        "id": "iwFmJ7AL7bJk"
      }
    },
    {
      "cell_type": "code",
      "execution_count": 1,
      "metadata": {
        "colab": {
          "base_uri": "https://localhost:8080/"
        },
        "id": "FJQoOSGW1loi",
        "outputId": "bd2efd0d-2b81-49a0-bda9-2b00b451a6ef"
      },
      "outputs": [
        {
          "output_type": "stream",
          "name": "stdout",
          "text": [
            "Colab only includes TensorFlow 2.x; %tensorflow_version has no effect.\n"
          ]
        }
      ],
      "source": [
        "#https://www.tensorflow.org/probability/api_docs/python/tfp/distributions/HiddenMarkovModel\n",
        "\n",
        "%tensorflow_version 2.x"
      ]
    },
    {
      "cell_type": "code",
      "source": [
        "import tensorflow_probability as tfp\n",
        "import tensorflow as tf"
      ],
      "metadata": {
        "id": "qS4fC6nA8Zxz"
      },
      "execution_count": 3,
      "outputs": []
    },
    {
      "cell_type": "code",
      "source": [
        "#model\n",
        "\n",
        "# 1. Given:\n",
        "    # cold days = 0\n",
        "    # hot days = 1\n",
        "\n",
        "# 2. The first day in our sequence has an 80% chance of being cold\n",
        "# 3. A cold day has 30% chance of being followed by a hot day.\n",
        "# 4. A hot day has a 20% chance of being followed by a cold day.\n",
        "# 5. On each day, the temperature is normally distributed with mean and standard deviation 0 and 5 on a cold day and mean and standard deviation 15 and 10 on a hot day.\n",
        "# In this example, on a hot day, the average temperature is 15 and ranges from 5 to 25.as_integer_ratio\n",
        "\n",
        "tfd = tfp.distributions #making a shortcut for later on\n",
        "\n",
        "initial_distribution = tfd.Categorical(probs=[0.8, 0.2]) #referring to #2\n",
        "\n",
        "transitional_distribution = tfd.Categorical(probs = [[0.7, 0.3], [0.2, 0.8]]) #referring to #3 #4\n",
        "\n",
        "observation_distribution = tfd.Normal(loc=[0., 15.], scale = [5., 10.]) #refer to #5\n",
        "\n",
        "#the loc argument represents the mean and the scale is the standard deviation"
      ],
      "metadata": {
        "id": "3pQxk0Lm92pV"
      },
      "execution_count": 4,
      "outputs": []
    },
    {
      "cell_type": "code",
      "source": [
        "#create the hidden markov model\n",
        "model = tfd.HiddenMarkovModel(\n",
        "    initial_distribution = initial_distribution,\n",
        "    transition_distribution = transitional_distribution,\n",
        "    observation_distribution = observation_distribution,\n",
        "    num_steps = 7)\n",
        "\n",
        "#steps = how many days we want to predict for. Or the times we're going to step through this probability cycle and run the model.\n",
        "#7 = an entire week"
      ],
      "metadata": {
        "id": "fE7wex2XADQM"
      },
      "execution_count": 7,
      "outputs": []
    },
    {
      "cell_type": "code",
      "source": [
        "#To get the expected temperatores on each day, we can do the following: Calculate the probabilities\n",
        "#model.mean() = partially defined Tensor\n",
        "\n",
        "mean = model.mean()"
      ],
      "metadata": {
        "id": "3Bn7XvGhAb3Z"
      },
      "execution_count": 10,
      "outputs": []
    },
    {
      "cell_type": "code",
      "source": [
        "#from the variable \"mean\" above, get the  numpy array = that gives the expected temperatures on each day\n",
        "with tf.compat.v1.Session() as sess:\n",
        "  print(mean.numpy())"
      ],
      "metadata": {
        "colab": {
          "base_uri": "https://localhost:8080/"
        },
        "id": "W2XO-bGIDNA3",
        "outputId": "b344786b-beab-4486-91c2-678304041db1"
      },
      "execution_count": 11,
      "outputs": [
        {
          "output_type": "stream",
          "name": "stdout",
          "text": [
            "[3.        5.9999995 7.4999995 8.25      8.625001  8.812501  8.90625  ]\n"
          ]
        }
      ]
    },
    {
      "cell_type": "markdown",
      "source": [
        "The output if run multiple times will result to same output because the probabilities are the same.\n",
        "\n",
        "Try playing with different probability values!"
      ],
      "metadata": {
        "id": "a9XDuwijEE12"
      }
    },
    {
      "cell_type": "markdown",
      "source": [
        "# Practice on more examples!"
      ],
      "metadata": {
        "id": "kVdzan5jD6bD"
      }
    }
  ]
}