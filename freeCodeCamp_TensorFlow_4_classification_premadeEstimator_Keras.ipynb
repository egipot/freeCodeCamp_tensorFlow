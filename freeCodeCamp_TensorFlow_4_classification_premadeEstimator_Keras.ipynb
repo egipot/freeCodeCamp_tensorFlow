{
  "nbformat": 4,
  "nbformat_minor": 0,
  "metadata": {
    "colab": {
      "provenance": [],
      "authorship_tag": "ABX9TyMN2yC61BnDyrnoEZYl9rnU",
      "include_colab_link": true
    },
    "kernelspec": {
      "name": "python3",
      "display_name": "Python 3"
    },
    "language_info": {
      "name": "python"
    }
  },
  "cells": [
    {
      "cell_type": "markdown",
      "metadata": {
        "id": "view-in-github",
        "colab_type": "text"
      },
      "source": [
        "<a href=\"https://colab.research.google.com/github/egipot/freeCodeCamp_tensorFlow/blob/main/freeCodeCamp_TensorFlow_4_classification_premadeEstimator_Keras.ipynb\" target=\"_parent\"><img src=\"https://colab.research.google.com/assets/colab-badge.svg\" alt=\"Open In Colab\"/></a>"
      ]
    },
    {
      "cell_type": "markdown",
      "source": [
        "From https://www.tensorflow.org/tutorials/estimator/premade -->\n",
        "https://www.tensorflow.org/guide/keras/training_with_built_in_methods"
      ],
      "metadata": {
        "id": "XqwiPIJgI6OR"
      }
    },
    {
      "cell_type": "markdown",
      "source": [
        "# Training & evaluation with the built-in methods"
      ],
      "metadata": {
        "id": "FqXV7DY9JFdr"
      }
    },
    {
      "cell_type": "code",
      "execution_count": 1,
      "metadata": {
        "id": "Mhb8gX-MInd-"
      },
      "outputs": [],
      "source": [
        "import tensorflow as tf\n",
        "import keras\n",
        "from keras import layers"
      ]
    },
    {
      "cell_type": "code",
      "source": [
        "inputs = keras.Input(shape=(784,), name=\"digits\")\n",
        "x = layers.Dense(64, activation=\"relu\", name=\"dense_1\")(inputs)\n",
        "x = layers.Dense(64, activation=\"relu\", name=\"dense_2\")(x)\n",
        "outputs = layers.Dense(10, activation=\"softmax\", name=\"predictions\")(x)\n",
        "\n",
        "model = keras.Model(inputs=inputs, outputs=outputs)"
      ],
      "metadata": {
        "id": "LB-LNcxwJQjI"
      },
      "execution_count": 2,
      "outputs": []
    },
    {
      "cell_type": "code",
      "source": [
        "(x_train, y_train), (x_test, y_test) = keras.datasets.mnist.load_data()\n",
        "\n",
        "# Preprocess the data (these are NumPy arrays)\n",
        "x_train = x_train.reshape(60000, 784).astype(\"float32\") / 255\n",
        "x_test = x_test.reshape(10000, 784).astype(\"float32\") / 255\n",
        "\n",
        "y_train = y_train.astype(\"float32\")\n",
        "y_test = y_test.astype(\"float32\")\n",
        "\n",
        "# Reserve 10,000 samples for validation\n",
        "x_val = x_train[-10000:]\n",
        "y_val = y_train[-10000:]\n",
        "x_train = x_train[:-10000]\n",
        "y_train = y_train[:-10000]"
      ],
      "metadata": {
        "colab": {
          "base_uri": "https://localhost:8080/"
        },
        "id": "wPnv1fmvuM9J",
        "outputId": "5d10a38d-06e8-4c63-a23e-1714f2ac2b76"
      },
      "execution_count": 3,
      "outputs": [
        {
          "output_type": "stream",
          "name": "stdout",
          "text": [
            "Downloading data from https://storage.googleapis.com/tensorflow/tf-keras-datasets/mnist.npz\n",
            "11490434/11490434 [==============================] - 1s 0us/step\n"
          ]
        }
      ]
    },
    {
      "cell_type": "code",
      "source": [
        "model.compile(\n",
        "    optimizer=keras.optimizers.RMSprop(),  # Optimizer\n",
        "    # Loss function to minimize\n",
        "    loss=keras.losses.SparseCategoricalCrossentropy(),\n",
        "    # List of metrics to monitor\n",
        "    metrics=[keras.metrics.SparseCategoricalAccuracy()],\n",
        ")"
      ],
      "metadata": {
        "id": "HcUtYPFEuUlT"
      },
      "execution_count": 4,
      "outputs": []
    },
    {
      "cell_type": "code",
      "source": [
        "print(\"Fit model on training data\")\n",
        "history = model.fit(\n",
        "    x_train,\n",
        "    y_train,\n",
        "    batch_size=64,\n",
        "    epochs=2,\n",
        "    # We pass some validation for\n",
        "    # monitoring validation loss and metrics\n",
        "    # at the end of each epoch\n",
        "    validation_data=(x_val, y_val),\n",
        ")"
      ],
      "metadata": {
        "colab": {
          "base_uri": "https://localhost:8080/"
        },
        "id": "Y7X7tmKauYP9",
        "outputId": "50e3e614-6e5e-401c-b4f7-1da7ab43af8d"
      },
      "execution_count": 5,
      "outputs": [
        {
          "output_type": "stream",
          "name": "stdout",
          "text": [
            "Fit model on training data\n",
            "Epoch 1/2\n",
            "782/782 [==============================] - 3s 4ms/step - loss: 0.3355 - sparse_categorical_accuracy: 0.9055 - val_loss: 0.1776 - val_sparse_categorical_accuracy: 0.9502\n",
            "Epoch 2/2\n",
            "782/782 [==============================] - 3s 3ms/step - loss: 0.1580 - sparse_categorical_accuracy: 0.9528 - val_loss: 0.1450 - val_sparse_categorical_accuracy: 0.9587\n"
          ]
        }
      ]
    },
    {
      "cell_type": "code",
      "source": [
        "history.history"
      ],
      "metadata": {
        "colab": {
          "base_uri": "https://localhost:8080/"
        },
        "id": "q2MNsCiwukFp",
        "outputId": "0dfa150b-9c29-438b-aad2-93a60727e199"
      },
      "execution_count": 6,
      "outputs": [
        {
          "output_type": "execute_result",
          "data": {
            "text/plain": [
              "{'loss': [0.3354675769805908, 0.15798354148864746],\n",
              " 'sparse_categorical_accuracy': [0.9055399894714355, 0.9528200030326843],\n",
              " 'val_loss': [0.17762191593647003, 0.1450454294681549],\n",
              " 'val_sparse_categorical_accuracy': [0.9502000212669373, 0.9587000012397766]}"
            ]
          },
          "metadata": {},
          "execution_count": 6
        }
      ]
    },
    {
      "cell_type": "code",
      "source": [
        "# Evaluate the model on the test data using `evaluate`\n",
        "print(\"Evaluate on test data\")\n",
        "results = model.evaluate(x_test, y_test, batch_size=128)\n",
        "print(\"test loss, test acc:\", results)\n",
        "\n",
        "# Generate predictions (probabilities -- the output of the last layer)\n",
        "# on new data using `predict`\n",
        "print(\"Generate predictions for 3 samples\")\n",
        "predictions = model.predict(x_test[:3])\n",
        "print(\"predictions shape:\", predictions.shape)"
      ],
      "metadata": {
        "colab": {
          "base_uri": "https://localhost:8080/"
        },
        "id": "KpMkusbjuj_C",
        "outputId": "af22ffa7-e350-4dea-a8b9-1b9f44282ac1"
      },
      "execution_count": 7,
      "outputs": [
        {
          "output_type": "stream",
          "name": "stdout",
          "text": [
            "Evaluate on test data\n",
            "79/79 [==============================] - 0s 2ms/step - loss: 0.1475 - sparse_categorical_accuracy: 0.9572\n",
            "test loss, test acc: [0.14751353859901428, 0.9571999907493591]\n",
            "Generate predictions for 3 samples\n",
            "1/1 [==============================] - 0s 95ms/step\n",
            "predictions shape: (3, 10)\n"
          ]
        }
      ]
    },
    {
      "cell_type": "code",
      "source": [
        "y_test.shape"
      ],
      "metadata": {
        "colab": {
          "base_uri": "https://localhost:8080/"
        },
        "id": "z-X2JaZCwwH2",
        "outputId": "8b3d055c-e7d4-4850-ec9b-cf704418d81c"
      },
      "execution_count": 15,
      "outputs": [
        {
          "output_type": "execute_result",
          "data": {
            "text/plain": [
              "(10000,)"
            ]
          },
          "metadata": {},
          "execution_count": 15
        }
      ]
    },
    {
      "cell_type": "code",
      "source": [
        "x_test.shape"
      ],
      "metadata": {
        "colab": {
          "base_uri": "https://localhost:8080/"
        },
        "id": "nP_K8B0iw0Lq",
        "outputId": "1f7a927b-3733-4508-8a29-d28a8d1f9e6b"
      },
      "execution_count": 16,
      "outputs": [
        {
          "output_type": "execute_result",
          "data": {
            "text/plain": [
              "(10000, 784)"
            ]
          },
          "metadata": {},
          "execution_count": 16
        }
      ]
    },
    {
      "cell_type": "code",
      "source": [
        "predictions"
      ],
      "metadata": {
        "colab": {
          "base_uri": "https://localhost:8080/"
        },
        "id": "B8ow1HXCxZ8w",
        "outputId": "f9302d74-4e82-46c7-d394-43bf6c57d77a"
      },
      "execution_count": 19,
      "outputs": [
        {
          "output_type": "execute_result",
          "data": {
            "text/plain": [
              "array([[8.2784209e-07, 1.3286109e-07, 1.1303973e-05, 2.2211992e-05,\n",
              "        8.0046086e-10, 3.1987125e-05, 3.6341270e-11, 9.9991202e-01,\n",
              "        1.4280964e-07, 2.1383197e-05],\n",
              "       [2.4739173e-05, 1.7727099e-04, 9.9935144e-01, 4.0979771e-04,\n",
              "        2.9687386e-10, 1.4470712e-06, 1.8975472e-05, 2.0172120e-09,\n",
              "        1.6318225e-05, 2.0972304e-11],\n",
              "       [1.6207785e-05, 9.9698985e-01, 2.5237544e-04, 1.2640169e-04,\n",
              "        1.8120336e-04, 3.7819942e-04, 5.9449350e-05, 1.8749845e-03,\n",
              "        1.0505775e-04, 1.6112694e-05]], dtype=float32)"
            ]
          },
          "metadata": {},
          "execution_count": 19
        }
      ]
    },
    {
      "cell_type": "markdown",
      "source": [],
      "metadata": {
        "id": "Ahf2dINPwv9Z"
      }
    },
    {
      "cell_type": "code",
      "source": [
        "import matplotlib.pyplot as plt"
      ],
      "metadata": {
        "id": "AjuY8UrQvzlr"
      },
      "execution_count": 11,
      "outputs": []
    },
    {
      "cell_type": "code",
      "source": [
        "import numpy as np"
      ],
      "metadata": {
        "id": "GRZstii5yP4n"
      },
      "execution_count": 26,
      "outputs": []
    },
    {
      "cell_type": "code",
      "source": [
        "#https://www.geeksforgeeks.org/numpy-ndarray/?ref=lbp\n",
        "y = np.zeros((3,10))"
      ],
      "metadata": {
        "id": "x9b6zftayMPY"
      },
      "execution_count": 36,
      "outputs": []
    },
    {
      "cell_type": "code",
      "source": [
        "y"
      ],
      "metadata": {
        "colab": {
          "base_uri": "https://localhost:8080/"
        },
        "id": "77xhSzs7yq-c",
        "outputId": "dfe2d112-a701-4305-de73-2d7dc34234b6"
      },
      "execution_count": 33,
      "outputs": [
        {
          "output_type": "execute_result",
          "data": {
            "text/plain": [
              "array([[0., 0., 0., 0., 0., 0., 0., 0., 0., 0.],\n",
              "       [0., 0., 0., 0., 0., 0., 0., 0., 0., 0.],\n",
              "       [0., 0., 0., 0., 0., 0., 0., 0., 0., 0.]])"
            ]
          },
          "metadata": {},
          "execution_count": 33
        }
      ]
    },
    {
      "cell_type": "code",
      "source": [
        "y.shape"
      ],
      "metadata": {
        "colab": {
          "base_uri": "https://localhost:8080/"
        },
        "id": "4aVUrjGNzZJN",
        "outputId": "b6dc6820-cb03-4ceb-cced-4fadee379caa"
      },
      "execution_count": 34,
      "outputs": [
        {
          "output_type": "execute_result",
          "data": {
            "text/plain": [
              "(3, 10)"
            ]
          },
          "metadata": {},
          "execution_count": 34
        }
      ]
    },
    {
      "cell_type": "code",
      "source": [
        "plt.plot(predictions,y )"
      ],
      "metadata": {
        "colab": {
          "base_uri": "https://localhost:8080/",
          "height": 612
        },
        "id": "PPWTS0E5v8xT",
        "outputId": "f47199ab-05fb-45a0-e413-98a21ac9f47d"
      },
      "execution_count": 35,
      "outputs": [
        {
          "output_type": "execute_result",
          "data": {
            "text/plain": [
              "[<matplotlib.lines.Line2D at 0x7e17f43dc2b0>,\n",
              " <matplotlib.lines.Line2D at 0x7e17f43df9a0>,\n",
              " <matplotlib.lines.Line2D at 0x7e17f43dc460>,\n",
              " <matplotlib.lines.Line2D at 0x7e17f43ddb70>,\n",
              " <matplotlib.lines.Line2D at 0x7e17f43dc100>,\n",
              " <matplotlib.lines.Line2D at 0x7e17f43de050>,\n",
              " <matplotlib.lines.Line2D at 0x7e17f43dff70>,\n",
              " <matplotlib.lines.Line2D at 0x7e17f43ddb10>,\n",
              " <matplotlib.lines.Line2D at 0x7e17f43df370>,\n",
              " <matplotlib.lines.Line2D at 0x7e17f43dc1c0>]"
            ]
          },
          "metadata": {},
          "execution_count": 35
        },
        {
          "output_type": "display_data",
          "data": {
            "text/plain": [
              "<Figure size 640x480 with 1 Axes>"
            ],
            "image/png": "[encoded data removed]"
          },
          "metadata": {}
        }
      ]
    },
    {
      "cell_type": "code",
      "source": [
        "#https://numpy.org/doc/stable/user/basics.creation.html\n",
        "\n",
        "from numpy.random import default_rng\n",
        "y2 = default_rng(42).random((3, 10))"
      ],
      "metadata": {
        "id": "eX3xECkt0Bxw"
      },
      "execution_count": 39,
      "outputs": []
    },
    {
      "cell_type": "code",
      "source": [
        "y2"
      ],
      "metadata": {
        "colab": {
          "base_uri": "https://localhost:8080/"
        },
        "id": "DQjSiKoT0csc",
        "outputId": "76463abe-09ad-4a01-ec4f-fa6a634417f9"
      },
      "execution_count": 40,
      "outputs": [
        {
          "output_type": "execute_result",
          "data": {
            "text/plain": [
              "array([[0.77395605, 0.43887844, 0.85859792, 0.69736803, 0.09417735,\n",
              "        0.97562235, 0.7611397 , 0.78606431, 0.12811363, 0.45038594],\n",
              "       [0.37079802, 0.92676499, 0.64386512, 0.82276161, 0.4434142 ,\n",
              "        0.22723872, 0.55458479, 0.06381726, 0.82763117, 0.6316644 ],\n",
              "       [0.75808774, 0.35452597, 0.97069802, 0.89312112, 0.7783835 ,\n",
              "        0.19463871, 0.466721  , 0.04380377, 0.15428949, 0.68304895]])"
            ]
          },
          "metadata": {},
          "execution_count": 40
        }
      ]
    },
    {
      "cell_type": "code",
      "source": [
        "y2.shape"
      ],
      "metadata": {
        "colab": {
          "base_uri": "https://localhost:8080/"
        },
        "id": "ntl8lkvp0fLI",
        "outputId": "9bbdf22b-d10e-4e7f-97f9-47f6ef60f591"
      },
      "execution_count": 41,
      "outputs": [
        {
          "output_type": "execute_result",
          "data": {
            "text/plain": [
              "(3, 10)"
            ]
          },
          "metadata": {},
          "execution_count": 41
        }
      ]
    },
    {
      "cell_type": "code",
      "source": [
        "plt.plot(predictions, y2)"
      ],
      "metadata": {
        "colab": {
          "base_uri": "https://localhost:8080/",
          "height": 612
        },
        "id": "9tWDl8ft0hIl",
        "outputId": "2f706745-c117-43cf-fef6-4ea54428353c"
      },
      "execution_count": 42,
      "outputs": [
        {
          "output_type": "execute_result",
          "data": {
            "text/plain": [
              "[<matplotlib.lines.Line2D at 0x7e17d8185f90>,\n",
              " <matplotlib.lines.Line2D at 0x7e17d8186050>,\n",
              " <matplotlib.lines.Line2D at 0x7e17d8185ff0>,\n",
              " <matplotlib.lines.Line2D at 0x7e17d8185d80>,\n",
              " <matplotlib.lines.Line2D at 0x7e17d8185bd0>,\n",
              " <matplotlib.lines.Line2D at 0x7e17d8186890>,\n",
              " <matplotlib.lines.Line2D at 0x7e17d8186980>,\n",
              " <matplotlib.lines.Line2D at 0x7e17d81869e0>,\n",
              " <matplotlib.lines.Line2D at 0x7e17d8186800>,\n",
              " <matplotlib.lines.Line2D at 0x7e17d8186380>]"
            ]
          },
          "metadata": {},
          "execution_count": 42
        },
        {
          "output_type": "display_data",
          "data": {
            "text/plain": [
              "<Figure size 640x480 with 1 Axes>"
            ],
            "image/png": "[encoded data removed]"
          },
          "metadata": {}
        }
      ]
    },
    {
      "cell_type": "code",
      "source": [
        "plt.scatter(predictions, y2)"
      ],
      "metadata": {
        "colab": {
          "base_uri": "https://localhost:8080/",
          "height": 448
        },
        "id": "0Jqe5Cmw0wkX",
        "outputId": "36708938-9caa-4e90-93c6-54f928f065c0"
      },
      "execution_count": 43,
      "outputs": [
        {
          "output_type": "execute_result",
          "data": {
            "text/plain": [
              "<matplotlib.collections.PathCollection at 0x7e17caf173d0>"
            ]
          },
          "metadata": {},
          "execution_count": 43
        },
        {
          "output_type": "display_data",
          "data": {
            "text/plain": [
              "<Figure size 640x480 with 1 Axes>"
            ],
            "image/png": "[encoded data removed]"
          },
          "metadata": {}
        }
      ]
    },
    {
      "cell_type": "markdown",
      "source": [],
      "metadata": {
        "id": "BFiWad_hvwDt"
      }
    }
  ]
}